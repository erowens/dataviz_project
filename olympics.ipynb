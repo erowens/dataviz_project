{
 "cells": [
  {
   "cell_type": "code",
   "execution_count": 1,
   "metadata": {
    "ExecuteTime": {
     "end_time": "2019-05-16T17:38:43.577202Z",
     "start_time": "2019-05-16T17:38:42.120866Z"
    }
   },
   "outputs": [],
   "source": [
    "import seaborn as sns\n",
    "import pandas as pd\n",
    "import numpy as np\n",
    "import matplotlib.pyplot as plt"
   ]
  },
  {
   "cell_type": "code",
   "execution_count": 2,
   "metadata": {
    "ExecuteTime": {
     "end_time": "2019-05-16T17:38:44.447699Z",
     "start_time": "2019-05-16T17:38:43.579368Z"
    }
   },
   "outputs": [],
   "source": [
    "olympics = pd.read_csv('olympics/athlete_events.csv', index_col=0)"
   ]
  },
  {
   "cell_type": "markdown",
   "metadata": {
    "heading_collapsed": true
   },
   "source": [
    "# Choropleth"
   ]
  },
  {
   "cell_type": "code",
   "execution_count": 3,
   "metadata": {
    "ExecuteTime": {
     "end_time": "2019-05-16T17:38:46.535120Z",
     "start_time": "2019-05-16T17:38:44.451498Z"
    },
    "hidden": true
   },
   "outputs": [],
   "source": [
    "sport_games_cts = olympics.groupby('Sport').nunique().Games"
   ]
  },
  {
   "cell_type": "code",
   "execution_count": 4,
   "metadata": {
    "ExecuteTime": {
     "end_time": "2019-05-16T17:38:46.544933Z",
     "start_time": "2019-05-16T17:38:46.538955Z"
    },
    "hidden": true
   },
   "outputs": [],
   "source": [
    "sport_games_cts = sport_games_cts[sport_games_cts>=2]"
   ]
  },
  {
   "cell_type": "code",
   "execution_count": 5,
   "metadata": {
    "ExecuteTime": {
     "end_time": "2019-05-16T17:38:46.715752Z",
     "start_time": "2019-05-16T17:38:46.548793Z"
    },
    "hidden": true,
    "scrolled": false
   },
   "outputs": [],
   "source": [
    "sport_index = olympics.set_index('Sport')"
   ]
  },
  {
   "cell_type": "code",
   "execution_count": 6,
   "metadata": {
    "ExecuteTime": {
     "end_time": "2019-05-16T17:38:46.918658Z",
     "start_time": "2019-05-16T17:38:46.718573Z"
    },
    "hidden": true
   },
   "outputs": [],
   "source": [
    "olympics_refined = sport_index.loc[sport_games_cts.index]"
   ]
  },
  {
   "cell_type": "code",
   "execution_count": 7,
   "metadata": {
    "ExecuteTime": {
     "end_time": "2019-05-16T17:38:46.938486Z",
     "start_time": "2019-05-16T17:38:46.920840Z"
    },
    "hidden": true
   },
   "outputs": [],
   "source": [
    "golds = olympics_refined[olympics_refined.Medal=='Gold']"
   ]
  },
  {
   "cell_type": "code",
   "execution_count": 8,
   "metadata": {
    "ExecuteTime": {
     "end_time": "2019-05-16T17:38:46.958135Z",
     "start_time": "2019-05-16T17:38:46.940622Z"
    },
    "hidden": true
   },
   "outputs": [],
   "source": [
    "sport_golds = golds.groupby(['Sport', 'NOC']).count().Medal"
   ]
  },
  {
   "cell_type": "code",
   "execution_count": 9,
   "metadata": {
    "ExecuteTime": {
     "end_time": "2019-05-16T17:38:46.992790Z",
     "start_time": "2019-05-16T17:38:46.960784Z"
    },
    "hidden": true
   },
   "outputs": [],
   "source": [
    "sports = []\n",
    "top_countries = []\n",
    "for sport in sport_golds.index.levels[0]:\n",
    "    sport_gold_count = sport_golds.loc[sport]\n",
    "    sports.append(sport)\n",
    "    top_countries.append(sport_gold_count.idxmax())"
   ]
  },
  {
   "cell_type": "code",
   "execution_count": 10,
   "metadata": {
    "ExecuteTime": {
     "end_time": "2019-05-16T17:38:47.001734Z",
     "start_time": "2019-05-16T17:38:46.994981Z"
    },
    "hidden": true
   },
   "outputs": [],
   "source": [
    "top_countries = ['RUS' if country == 'URS' else country for country in top_countries]"
   ]
  },
  {
   "cell_type": "code",
   "execution_count": 11,
   "metadata": {
    "ExecuteTime": {
     "end_time": "2019-05-16T17:38:47.009660Z",
     "start_time": "2019-05-16T17:38:47.005037Z"
    },
    "hidden": true
   },
   "outputs": [],
   "source": [
    "country_sports = pd.Series(sports, index=top_countries)"
   ]
  },
  {
   "cell_type": "code",
   "execution_count": 12,
   "metadata": {
    "ExecuteTime": {
     "end_time": "2019-05-16T17:38:47.023333Z",
     "start_time": "2019-05-16T17:38:47.014112Z"
    },
    "hidden": true
   },
   "outputs": [],
   "source": [
    "countries = []\n",
    "sport_strings = []\n",
    "sport_cts = []\n",
    "for country in country_sports.index.unique():\n",
    "    country_sport = country_sports.loc[country]\n",
    "    if type(country_sport) == str:\n",
    "        sport_strings.append(country_sport)\n",
    "        sport_cts.append(1)\n",
    "    else:\n",
    "        all_sports = ', '.join(country_sport.values)\n",
    "        sport_strings.append(all_sports)\n",
    "        sport_cts.append(country_sport.shape[0])\n",
    "    countries.append(country)"
   ]
  },
  {
   "cell_type": "code",
   "execution_count": 13,
   "metadata": {
    "ExecuteTime": {
     "end_time": "2019-05-16T17:38:47.035142Z",
     "start_time": "2019-05-16T17:38:47.026138Z"
    },
    "hidden": true
   },
   "outputs": [],
   "source": [
    "final_info = pd.DataFrame([sport_cts, sport_strings], columns=countries, index=['count', 'string']).transpose()"
   ]
  },
  {
   "cell_type": "code",
   "execution_count": 14,
   "metadata": {
    "ExecuteTime": {
     "end_time": "2019-05-16T17:38:47.054952Z",
     "start_time": "2019-05-16T17:38:47.039954Z"
    },
    "hidden": true
   },
   "outputs": [
    {
     "data": {
      "text/html": [
       "<div>\n",
       "<style scoped>\n",
       "    .dataframe tbody tr th:only-of-type {\n",
       "        vertical-align: middle;\n",
       "    }\n",
       "\n",
       "    .dataframe tbody tr th {\n",
       "        vertical-align: top;\n",
       "    }\n",
       "\n",
       "    .dataframe thead th {\n",
       "        text-align: right;\n",
       "    }\n",
       "</style>\n",
       "<table border=\"1\" class=\"dataframe\">\n",
       "  <thead>\n",
       "    <tr style=\"text-align: right;\">\n",
       "      <th></th>\n",
       "      <th>count</th>\n",
       "      <th>string</th>\n",
       "    </tr>\n",
       "  </thead>\n",
       "  <tbody>\n",
       "    <tr>\n",
       "      <th>AUT</th>\n",
       "      <td>1</td>\n",
       "      <td>Alpine Skiing</td>\n",
       "    </tr>\n",
       "    <tr>\n",
       "      <th>GBR</th>\n",
       "      <td>4</td>\n",
       "      <td>Alpinism, Polo, Triathlon, Tug-Of-War</td>\n",
       "    </tr>\n",
       "    <tr>\n",
       "      <th>KOR</th>\n",
       "      <td>3</td>\n",
       "      <td>Archery, Short Track Speed Skating, Taekwondo</td>\n",
       "    </tr>\n",
       "    <tr>\n",
       "      <th>GER</th>\n",
       "      <td>6</td>\n",
       "      <td>Art Competitions, Biathlon, Bobsleigh, Canoein...</td>\n",
       "    </tr>\n",
       "    <tr>\n",
       "      <th>USA</th>\n",
       "      <td>14</td>\n",
       "      <td>Athletics, Basketball, Beach Volleyball, Boxin...</td>\n",
       "    </tr>\n",
       "    <tr>\n",
       "      <th>CHN</th>\n",
       "      <td>4</td>\n",
       "      <td>Badminton, Diving, Table Tennis, Trampolining</td>\n",
       "    </tr>\n",
       "    <tr>\n",
       "      <th>CUB</th>\n",
       "      <td>1</td>\n",
       "      <td>Baseball</td>\n",
       "    </tr>\n",
       "    <tr>\n",
       "      <th>NOR</th>\n",
       "      <td>3</td>\n",
       "      <td>Cross Country Skiing, Nordic Combined, Sailing</td>\n",
       "    </tr>\n",
       "    <tr>\n",
       "      <th>CAN</th>\n",
       "      <td>4</td>\n",
       "      <td>Curling, Freestyle Skiing, Ice Hockey, Lacrosse</td>\n",
       "    </tr>\n",
       "    <tr>\n",
       "      <th>ITA</th>\n",
       "      <td>2</td>\n",
       "      <td>Cycling, Fencing</td>\n",
       "    </tr>\n",
       "    <tr>\n",
       "      <th>RUS</th>\n",
       "      <td>7</td>\n",
       "      <td>Figure Skating, Gymnastics, Rhythmic Gymnastic...</td>\n",
       "    </tr>\n",
       "    <tr>\n",
       "      <th>DEN</th>\n",
       "      <td>1</td>\n",
       "      <td>Handball</td>\n",
       "    </tr>\n",
       "    <tr>\n",
       "      <th>IND</th>\n",
       "      <td>1</td>\n",
       "      <td>Hockey</td>\n",
       "    </tr>\n",
       "    <tr>\n",
       "      <th>JPN</th>\n",
       "      <td>1</td>\n",
       "      <td>Judo</td>\n",
       "    </tr>\n",
       "    <tr>\n",
       "      <th>HUN</th>\n",
       "      <td>2</td>\n",
       "      <td>Modern Pentathlon, Water Polo</td>\n",
       "    </tr>\n",
       "    <tr>\n",
       "      <th>FIN</th>\n",
       "      <td>1</td>\n",
       "      <td>Ski Jumping</td>\n",
       "    </tr>\n",
       "    <tr>\n",
       "      <th>NED</th>\n",
       "      <td>1</td>\n",
       "      <td>Speed Skating</td>\n",
       "    </tr>\n",
       "  </tbody>\n",
       "</table>\n",
       "</div>"
      ],
      "text/plain": [
       "    count                                             string\n",
       "AUT     1                                      Alpine Skiing\n",
       "GBR     4              Alpinism, Polo, Triathlon, Tug-Of-War\n",
       "KOR     3      Archery, Short Track Speed Skating, Taekwondo\n",
       "GER     6  Art Competitions, Biathlon, Bobsleigh, Canoein...\n",
       "USA    14  Athletics, Basketball, Beach Volleyball, Boxin...\n",
       "CHN     4      Badminton, Diving, Table Tennis, Trampolining\n",
       "CUB     1                                           Baseball\n",
       "NOR     3     Cross Country Skiing, Nordic Combined, Sailing\n",
       "CAN     4    Curling, Freestyle Skiing, Ice Hockey, Lacrosse\n",
       "ITA     2                                   Cycling, Fencing\n",
       "RUS     7  Figure Skating, Gymnastics, Rhythmic Gymnastic...\n",
       "DEN     1                                           Handball\n",
       "IND     1                                             Hockey\n",
       "JPN     1                                               Judo\n",
       "HUN     2                      Modern Pentathlon, Water Polo\n",
       "FIN     1                                        Ski Jumping\n",
       "NED     1                                      Speed Skating"
      ]
     },
     "execution_count": 14,
     "metadata": {},
     "output_type": "execute_result"
    }
   ],
   "source": [
    "final_info"
   ]
  },
  {
   "cell_type": "code",
   "execution_count": 15,
   "metadata": {
    "ExecuteTime": {
     "end_time": "2019-05-16T17:38:47.065289Z",
     "start_time": "2019-05-16T17:38:47.058506Z"
    },
    "hidden": true
   },
   "outputs": [],
   "source": [
    "final_info.to_csv('country_cts.csv')"
   ]
  },
  {
   "cell_type": "markdown",
   "metadata": {
    "heading_collapsed": true
   },
   "source": [
    "# Boxplot"
   ]
  },
  {
   "cell_type": "code",
   "execution_count": 16,
   "metadata": {
    "ExecuteTime": {
     "end_time": "2019-05-16T17:38:47.108303Z",
     "start_time": "2019-05-16T17:38:47.068122Z"
    },
    "hidden": true
   },
   "outputs": [],
   "source": [
    "only_summer_golds = olympics[(olympics.Medal == 'Gold') & (olympics.Season == 'Summer')]"
   ]
  },
  {
   "cell_type": "code",
   "execution_count": 17,
   "metadata": {
    "ExecuteTime": {
     "end_time": "2019-05-16T17:38:47.121840Z",
     "start_time": "2019-05-16T17:38:47.116120Z"
    },
    "hidden": true
   },
   "outputs": [],
   "source": [
    "class smart_dict(dict):\n",
    "    def __missing__(self, key):\n",
    "        return key"
   ]
  },
  {
   "cell_type": "code",
   "execution_count": 18,
   "metadata": {
    "ExecuteTime": {
     "end_time": "2019-05-16T17:38:47.196111Z",
     "start_time": "2019-05-16T17:38:47.137081Z"
    },
    "hidden": true
   },
   "outputs": [
    {
     "name": "stderr",
     "output_type": "stream",
     "text": [
      "/Users/eddieowens/miniconda3/lib/python3.7/site-packages/ipykernel_launcher.py:1: SettingWithCopyWarning: \n",
      "A value is trying to be set on a copy of a slice from a DataFrame.\n",
      "Try using .loc[row_indexer,col_indexer] = value instead\n",
      "\n",
      "See the caveats in the documentation: http://pandas.pydata.org/pandas-docs/stable/indexing.html#indexing-view-versus-copy\n",
      "  \"\"\"Entry point for launching an IPython kernel.\n"
     ]
    }
   ],
   "source": [
    "only_summer_golds['NOC'] = only_summer_golds.NOC.map(smart_dict({'URS':'RUS', 'GDR':'GER'})).copy()"
   ]
  },
  {
   "cell_type": "code",
   "execution_count": 19,
   "metadata": {
    "ExecuteTime": {
     "end_time": "2019-05-16T17:38:47.297532Z",
     "start_time": "2019-05-16T17:38:47.199902Z"
    },
    "hidden": true
   },
   "outputs": [],
   "source": [
    "country_gold_cts = only_summer_golds.groupby(['NOC', 'Games']).nunique().Event"
   ]
  },
  {
   "cell_type": "code",
   "execution_count": 20,
   "metadata": {
    "ExecuteTime": {
     "end_time": "2019-05-16T17:38:47.311551Z",
     "start_time": "2019-05-16T17:38:47.301897Z"
    },
    "hidden": true
   },
   "outputs": [],
   "source": [
    "top15 = country_gold_cts.groupby(['NOC']).sum().sort_values(ascending=False).iloc[:15]"
   ]
  },
  {
   "cell_type": "code",
   "execution_count": 21,
   "metadata": {
    "ExecuteTime": {
     "end_time": "2019-05-16T17:38:47.328494Z",
     "start_time": "2019-05-16T17:38:47.315843Z"
    },
    "hidden": true
   },
   "outputs": [],
   "source": [
    "top15_golds = country_gold_cts.loc[top15.index].reset_index()"
   ]
  },
  {
   "cell_type": "code",
   "execution_count": 22,
   "metadata": {
    "ExecuteTime": {
     "end_time": "2019-05-16T17:38:47.339471Z",
     "start_time": "2019-05-16T17:38:47.331863Z"
    },
    "hidden": true
   },
   "outputs": [
    {
     "data": {
      "text/plain": [
       "array(['AUS', 'CHN', 'FIN', 'FRA', 'GBR', 'GER', 'HUN', 'ITA', 'JPN',\n",
       "       'KOR', 'NED', 'ROU', 'RUS', 'SWE', 'USA'], dtype=object)"
      ]
     },
     "execution_count": 22,
     "metadata": {},
     "output_type": "execute_result"
    }
   ],
   "source": [
    "top15_golds.NOC.unique()"
   ]
  },
  {
   "cell_type": "code",
   "execution_count": 23,
   "metadata": {
    "ExecuteTime": {
     "end_time": "2019-05-16T17:38:47.346982Z",
     "start_time": "2019-05-16T17:38:47.342222Z"
    },
    "hidden": true
   },
   "outputs": [],
   "source": [
    "nation_colors = ['#00843D',  # AUS\n",
    "                 '#aa381e',  # CHN\n",
    "                 '#b5c9d8',  # FIN\n",
    "                 '#0072bb',  # FRA\n",
    "                 '#001F7E',  # GBR\n",
    "                 '#FFCE00',  # GER\n",
    "                 '#436F4D',  # HUN\n",
    "                 '#009246',  # ITA\n",
    "                 '#bc002d',  # JPN\n",
    "                 '#0047A0',  # KOR\n",
    "                 '#FFA500',  # NED\n",
    "                 '#FCD116',  # ROU\n",
    "                 '#D52B1E',  # RUS\n",
    "                 '#fecc00',  # SWE\n",
    "                 '#3C3B6E',  # USA\n",
    "                ]"
   ]
  },
  {
   "cell_type": "code",
   "execution_count": 24,
   "metadata": {
    "ExecuteTime": {
     "end_time": "2019-05-16T17:38:47.889794Z",
     "start_time": "2019-05-16T17:38:47.349906Z"
    },
    "hidden": true
   },
   "outputs": [
    {
     "data": {
      "image/png": "[encoded data removed]",
      "text/plain": [
       "<Figure size 720x432 with 1 Axes>"
      ]
     },
     "metadata": {
      "needs_background": "light"
     },
     "output_type": "display_data"
    }
   ],
   "source": [
    "plt.figure(figsize=(10,6))\n",
    "sns.boxplot(data=top15_golds, x='NOC', y='Event', palette=nation_colors)\n",
    "plt.title('Distribution of Gold Medals Won at Summer Olympics')\n",
    "plt.xlabel('Nation')\n",
    "plt.ylabel('Gold Medal Count')\n",
    "plt.show()"
   ]
  },
  {
   "cell_type": "markdown",
   "metadata": {
    "heading_collapsed": true
   },
   "source": [
    "# Histogram"
   ]
  },
  {
   "cell_type": "code",
   "execution_count": 25,
   "metadata": {
    "ExecuteTime": {
     "end_time": "2019-05-16T17:38:47.897430Z",
     "start_time": "2019-05-16T17:38:47.893212Z"
    },
    "hidden": true
   },
   "outputs": [],
   "source": [
    "import numpy as np"
   ]
  },
  {
   "cell_type": "code",
   "execution_count": 26,
   "metadata": {
    "ExecuteTime": {
     "end_time": "2019-05-16T17:38:47.929084Z",
     "start_time": "2019-05-16T17:38:47.903645Z"
    },
    "hidden": true
   },
   "outputs": [],
   "source": [
    "athletics = olympics[(olympics.Sport == 'Athletics') & (olympics.Year >= 2000)]"
   ]
  },
  {
   "cell_type": "code",
   "execution_count": 27,
   "metadata": {
    "ExecuteTime": {
     "end_time": "2019-05-16T17:38:47.951096Z",
     "start_time": "2019-05-16T17:38:47.930983Z"
    },
    "hidden": true
   },
   "outputs": [],
   "source": [
    "athletics_medals = athletics[1-athletics.Medal.isna() == 1]"
   ]
  },
  {
   "cell_type": "code",
   "execution_count": 28,
   "metadata": {
    "ExecuteTime": {
     "end_time": "2019-05-16T17:38:47.964191Z",
     "start_time": "2019-05-16T17:38:47.954290Z"
    },
    "hidden": true
   },
   "outputs": [],
   "source": [
    "country_athletics_medals = athletics_medals.groupby(['NOC', 'Year']).Event.nunique()"
   ]
  },
  {
   "cell_type": "code",
   "execution_count": 29,
   "metadata": {
    "ExecuteTime": {
     "end_time": "2019-05-16T17:38:48.163983Z",
     "start_time": "2019-05-16T17:38:47.966251Z"
    },
    "hidden": true
   },
   "outputs": [
    {
     "data": {
      "image/png": "[encoded data removed]",
      "text/plain": [
       "<Figure size 720x432 with 1 Axes>"
      ]
     },
     "metadata": {
      "needs_background": "light"
     },
     "output_type": "display_data"
    }
   ],
   "source": [
    "plt.figure(figsize=(10,6))\n",
    "plt.hist(country_athletics_medals.groupby(['NOC']).sum()/5)\n",
    "plt.title('Distribution of Athletics Medals Won per Olympics Since 2000')\n",
    "plt.xlabel('Medals Won')\n",
    "plt.ylabel('Country Count')\n",
    "plt.show()"
   ]
  },
  {
   "cell_type": "code",
   "execution_count": 30,
   "metadata": {
    "ExecuteTime": {
     "end_time": "2019-05-16T17:38:48.182078Z",
     "start_time": "2019-05-16T17:38:48.167390Z"
    },
    "hidden": true
   },
   "outputs": [
    {
     "data": {
      "text/plain": [
       "NOC\n",
       "USA    18.6\n",
       "RUS    11.4\n",
       "KEN     8.0\n",
       "JAM     7.6\n",
       "GBR     5.6\n",
       "ETH     5.4\n",
       "CUB     3.6\n",
       "GER     3.2\n",
       "AUS     3.0\n",
       "CHN     2.8\n",
       "POL     2.6\n",
       "FRA     2.6\n",
       "UKR     2.6\n",
       "RSA     2.2\n",
       "GRE     2.2\n",
       "BLR     2.0\n",
       "MAR     2.0\n",
       "BAH     2.0\n",
       "CZE     1.8\n",
       "TTO     1.8\n",
       "CAN     1.8\n",
       "ITA     1.6\n",
       "ROU     1.6\n",
       "NZL     1.4\n",
       "JPN     1.4\n",
       "ALG     1.4\n",
       "NGR     1.2\n",
       "ESP     1.2\n",
       "NOR     1.0\n",
       "BRA     1.0\n",
       "       ... \n",
       "HUN     0.6\n",
       "BRN     0.6\n",
       "GRN     0.4\n",
       "COL     0.4\n",
       "CMR     0.4\n",
       "BUL     0.4\n",
       "QAT     0.4\n",
       "BOT     0.2\n",
       "BDI     0.2\n",
       "BAR     0.2\n",
       "AUT     0.2\n",
       "VEN     0.2\n",
       "ECU     0.2\n",
       "ERI     0.2\n",
       "UGA     0.2\n",
       "TUN     0.2\n",
       "TJK     0.2\n",
       "SVK     0.2\n",
       "SUD     0.2\n",
       "SRI     0.2\n",
       "SRB     0.2\n",
       "PUR     0.2\n",
       "PAN     0.2\n",
       "NED     0.2\n",
       "MOZ     0.2\n",
       "KSA     0.2\n",
       "IRL     0.2\n",
       "IRI     0.2\n",
       "GUA     0.2\n",
       "ISL     0.2\n",
       "Name: Event, Length: 74, dtype: float64"
      ]
     },
     "execution_count": 30,
     "metadata": {},
     "output_type": "execute_result"
    }
   ],
   "source": [
    "(country_athletics_medals.groupby(['NOC']).sum()/5).sort_values(ascending=False)"
   ]
  },
  {
   "cell_type": "markdown",
   "metadata": {
    "heading_collapsed": true
   },
   "source": [
    "# Barplot"
   ]
  },
  {
   "cell_type": "code",
   "execution_count": 31,
   "metadata": {
    "ExecuteTime": {
     "end_time": "2019-05-16T17:38:48.206504Z",
     "start_time": "2019-05-16T17:38:48.184286Z"
    },
    "hidden": true
   },
   "outputs": [],
   "source": [
    "phelps = olympics[olympics.Name == 'Michael Fred Phelps, II']"
   ]
  },
  {
   "cell_type": "code",
   "execution_count": 32,
   "metadata": {
    "ExecuteTime": {
     "end_time": "2019-05-16T17:38:48.264137Z",
     "start_time": "2019-05-16T17:38:48.210958Z"
    },
    "hidden": true
   },
   "outputs": [
    {
     "name": "stderr",
     "output_type": "stream",
     "text": [
      "/Users/eddieowens/miniconda3/lib/python3.7/site-packages/pandas/core/frame.py:4034: SettingWithCopyWarning: \n",
      "A value is trying to be set on a copy of a slice from a DataFrame\n",
      "\n",
      "See the caveats in the documentation: http://pandas.pydata.org/pandas-docs/stable/indexing.html#indexing-view-versus-copy\n",
      "  downcast=downcast, **kwargs)\n"
     ]
    }
   ],
   "source": [
    "phelps.fillna('None', inplace=True)"
   ]
  },
  {
   "cell_type": "code",
   "execution_count": 33,
   "metadata": {
    "ExecuteTime": {
     "end_time": "2019-05-16T17:38:48.276109Z",
     "start_time": "2019-05-16T17:38:48.266938Z"
    },
    "hidden": true
   },
   "outputs": [],
   "source": [
    "phelps_byyear = phelps.groupby(['Year', 'Medal']).Event.nunique()"
   ]
  },
  {
   "cell_type": "code",
   "execution_count": 34,
   "metadata": {
    "ExecuteTime": {
     "end_time": "2019-05-16T17:38:48.307894Z",
     "start_time": "2019-05-16T17:38:48.283253Z"
    },
    "hidden": true
   },
   "outputs": [],
   "source": [
    "medal_ct = []\n",
    "years = []\n",
    "medals = []\n",
    "for year in phelps_byyear.index.levels[0]:\n",
    "    for medal in phelps_byyear.index.levels[1]:\n",
    "        if medal in phelps_byyear.loc[year]:\n",
    "            medal_ct.append(phelps_byyear.loc[year].loc[medal])\n",
    "        else:\n",
    "            medal_ct.append(0)\n",
    "        years.append(year)\n",
    "        medals.append(medal)"
   ]
  },
  {
   "cell_type": "code",
   "execution_count": 35,
   "metadata": {
    "ExecuteTime": {
     "end_time": "2019-05-16T17:38:48.320530Z",
     "start_time": "2019-05-16T17:38:48.309807Z"
    },
    "hidden": true
   },
   "outputs": [],
   "source": [
    "full_phelps = pd.DataFrame({'Year':years, 'Medal_ct':medal_ct}, index=medals)"
   ]
  },
  {
   "cell_type": "code",
   "execution_count": 36,
   "metadata": {
    "ExecuteTime": {
     "end_time": "2019-05-16T17:38:48.565541Z",
     "start_time": "2019-05-16T17:38:48.322519Z"
    },
    "hidden": true
   },
   "outputs": [
    {
     "data": {
      "image/png": "[encoded data removed]",
      "text/plain": [
       "<Figure size 720x432 with 1 Axes>"
      ]
     },
     "metadata": {
      "needs_background": "light"
     },
     "output_type": "display_data"
    }
   ],
   "source": [
    "plt.figure(figsize=(10,6))\n",
    "bar_Gold = plt.bar(full_phelps.loc['Gold'].Year, full_phelps.loc['Gold'].Medal_ct, color='gold', width=2)\n",
    "bar_Silver = plt.bar(full_phelps.loc['Silver'].Year, full_phelps.loc['Silver'].Medal_ct, \n",
    "                     bottom=full_phelps.loc['Gold'].Medal_ct, color='Silver', width=2)\n",
    "bar_Bronze = plt.bar(full_phelps.loc['Bronze'].Year, full_phelps.loc['Bronze'].Medal_ct, \n",
    "                     bottom=full_phelps.loc['Gold'].Medal_ct.values+full_phelps.loc['Silver'].Medal_ct.values,\n",
    "                    color='#cd7f32', width=2)\n",
    "bar_None = plt.bar(full_phelps.loc['None'].Year, full_phelps.loc['None'].Medal_ct, \n",
    "                   bottom=full_phelps.loc['Gold'].Medal_ct.values+full_phelps.loc['Silver'].Medal_ct.values+\n",
    "                  full_phelps.loc['Bronze'].Medal_ct.values, color='Red', width=2)\n",
    "\n",
    "plt.xticks([2000, 2004, 2008, 2012, 2016])\n",
    "plt.legend((bar_None[0], bar_Bronze[0], bar_Silver[0], bar_Gold[0]), ('No Medals', 'Bronze', 'Silver', 'Gold'),\n",
    "          bbox_to_anchor=(1,1))\n",
    "plt.title(\"Michael Phelps' Outcomes at the Olympics\")\n",
    "plt.xlabel('Year')\n",
    "plt.ylabel('Event Count')\n",
    "plt.show()"
   ]
  },
  {
   "cell_type": "markdown",
   "metadata": {
    "heading_collapsed": true
   },
   "source": [
    "# Heat Map"
   ]
  },
  {
   "cell_type": "code",
   "execution_count": 37,
   "metadata": {
    "ExecuteTime": {
     "end_time": "2019-05-16T17:38:48.574029Z",
     "start_time": "2019-05-16T17:38:48.569203Z"
    },
    "hidden": true
   },
   "outputs": [],
   "source": [
    "sport_sample = ['Athletics', 'Gymnastics', 'Swimming', 'Rowing', 'Wrestling', 'Weightlifting',\n",
    "                'Cross Country Skiing', 'Alpine Skiing', 'Speed Skating', 'Figure Skating']"
   ]
  },
  {
   "cell_type": "code",
   "execution_count": 38,
   "metadata": {
    "ExecuteTime": {
     "end_time": "2019-05-16T17:38:48.652342Z",
     "start_time": "2019-05-16T17:38:48.578702Z"
    },
    "hidden": true
   },
   "outputs": [],
   "source": [
    "sport_binary = [True if sport in sport_sample else False for sport in olympics.Sport]"
   ]
  },
  {
   "cell_type": "code",
   "execution_count": 39,
   "metadata": {
    "ExecuteTime": {
     "end_time": "2019-05-16T17:38:48.726263Z",
     "start_time": "2019-05-16T17:38:48.654175Z"
    },
    "hidden": true,
    "scrolled": false
   },
   "outputs": [],
   "source": [
    "select_sports = olympics[sport_binary & (olympics.Medal=='Gold')]"
   ]
  },
  {
   "cell_type": "code",
   "execution_count": 40,
   "metadata": {
    "ExecuteTime": {
     "end_time": "2019-05-16T17:38:48.781372Z",
     "start_time": "2019-05-16T17:38:48.728521Z"
    },
    "hidden": true
   },
   "outputs": [
    {
     "name": "stderr",
     "output_type": "stream",
     "text": [
      "/Users/eddieowens/miniconda3/lib/python3.7/site-packages/ipykernel_launcher.py:1: SettingWithCopyWarning: \n",
      "A value is trying to be set on a copy of a slice from a DataFrame.\n",
      "Try using .loc[row_indexer,col_indexer] = value instead\n",
      "\n",
      "See the caveats in the documentation: http://pandas.pydata.org/pandas-docs/stable/indexing.html#indexing-view-versus-copy\n",
      "  \"\"\"Entry point for launching an IPython kernel.\n"
     ]
    }
   ],
   "source": [
    "select_sports['NOC'] = select_sports.NOC.map(smart_dict({'URS':'RUS', 'GDR':'GER'}))"
   ]
  },
  {
   "cell_type": "code",
   "execution_count": 41,
   "metadata": {
    "ExecuteTime": {
     "end_time": "2019-05-16T17:38:48.805735Z",
     "start_time": "2019-05-16T17:38:48.784332Z"
    },
    "hidden": true,
    "scrolled": false
   },
   "outputs": [],
   "source": [
    "country_full_cts = select_sports.groupby(['NOC', 'Games', 'Sport']).Event.nunique().reset_index()"
   ]
  },
  {
   "cell_type": "code",
   "execution_count": 42,
   "metadata": {
    "ExecuteTime": {
     "end_time": "2019-05-16T17:38:48.813338Z",
     "start_time": "2019-05-16T17:38:48.807791Z"
    },
    "hidden": true
   },
   "outputs": [],
   "source": [
    "top_countries = top15_golds.NOC.unique()"
   ]
  },
  {
   "cell_type": "code",
   "execution_count": 43,
   "metadata": {
    "ExecuteTime": {
     "end_time": "2019-05-16T17:38:48.831141Z",
     "start_time": "2019-05-16T17:38:48.817336Z"
    },
    "hidden": true
   },
   "outputs": [],
   "source": [
    "country_sport_cts = country_full_cts.groupby(['Sport','NOC']).Event.sum()"
   ]
  },
  {
   "cell_type": "code",
   "execution_count": 44,
   "metadata": {
    "ExecuteTime": {
     "end_time": "2019-05-16T17:38:48.851988Z",
     "start_time": "2019-05-16T17:38:48.834731Z"
    },
    "hidden": true
   },
   "outputs": [],
   "source": [
    "full_data = []\n",
    "for sport in sport_sample:\n",
    "    sport_data = country_sport_cts.loc[sport]\n",
    "    tot = sum(sport_data)\n",
    "    sport_list = []\n",
    "    for country in top_countries:\n",
    "        if country in sport_data.index:\n",
    "            country_sport = sport_data.loc[country]\n",
    "            sport_list.append(country_sport/tot)\n",
    "        else:\n",
    "            sport_list.append(0)\n",
    "    full_data.append(sport_list)"
   ]
  },
  {
   "cell_type": "code",
   "execution_count": 45,
   "metadata": {
    "ExecuteTime": {
     "end_time": "2019-05-16T17:38:48.864126Z",
     "start_time": "2019-05-16T17:38:48.856076Z"
    },
    "hidden": true
   },
   "outputs": [],
   "source": [
    "matrix = pd.DataFrame(full_data, index=sport_sample, columns=top_countries)"
   ]
  },
  {
   "cell_type": "code",
   "execution_count": 46,
   "metadata": {
    "ExecuteTime": {
     "end_time": "2019-05-16T17:38:49.176808Z",
     "start_time": "2019-05-16T17:38:48.866658Z"
    },
    "hidden": true
   },
   "outputs": [
    {
     "data": {
      "image/png": "[encoded data removed]",
      "text/plain": [
       "<Figure size 720x432 with 2 Axes>"
      ]
     },
     "metadata": {
      "needs_background": "light"
     },
     "output_type": "display_data"
    }
   ],
   "source": [
    "plt.figure(figsize=(10,6))\n",
    "ax = sns.heatmap(matrix, linewidth=0.5, cmap='hot')\n",
    "plt.title('Percentage of Golds Won in Select Sports')\n",
    "# plt.xlabel('Country')\n",
    "# plt.ylabel('Sport')\n",
    "plt.show()"
   ]
  },
  {
   "cell_type": "markdown",
   "metadata": {
    "heading_collapsed": true
   },
   "source": [
    "# Choropleth"
   ]
  },
  {
   "cell_type": "code",
   "execution_count": 47,
   "metadata": {
    "ExecuteTime": {
     "end_time": "2019-05-16T17:38:49.184917Z",
     "start_time": "2019-05-16T17:38:49.179639Z"
    },
    "hidden": true
   },
   "outputs": [],
   "source": [
    "south_american = ['ARG', 'BOL', 'BRA', 'CHI', 'COL', 'ECU', 'GUY', 'PAR',\n",
    "                 'PER', 'SUR', 'URU', 'VEN']"
   ]
  },
  {
   "cell_type": "code",
   "execution_count": 48,
   "metadata": {
    "ExecuteTime": {
     "end_time": "2019-05-16T17:38:49.316069Z",
     "start_time": "2019-05-16T17:38:49.188486Z"
    },
    "hidden": true,
    "scrolled": false
   },
   "outputs": [],
   "source": [
    "south_american_data = olympics[[True if country in south_american else False for country in olympics.NOC]]"
   ]
  },
  {
   "cell_type": "code",
   "execution_count": 49,
   "metadata": {
    "ExecuteTime": {
     "end_time": "2019-05-16T17:38:49.392077Z",
     "start_time": "2019-05-16T17:38:49.318775Z"
    },
    "hidden": true
   },
   "outputs": [],
   "source": [
    "south_american_data.fillna('None', inplace=True)"
   ]
  },
  {
   "cell_type": "code",
   "execution_count": 50,
   "metadata": {
    "ExecuteTime": {
     "end_time": "2019-05-16T17:38:49.404158Z",
     "start_time": "2019-05-16T17:38:49.394385Z"
    },
    "hidden": true
   },
   "outputs": [],
   "source": [
    "south_american_data = south_american_data[south_american_data.Medal != 'None']"
   ]
  },
  {
   "cell_type": "code",
   "execution_count": 51,
   "metadata": {
    "ExecuteTime": {
     "end_time": "2019-05-16T17:38:49.420218Z",
     "start_time": "2019-05-16T17:38:49.407227Z"
    },
    "hidden": true,
    "scrolled": false
   },
   "outputs": [],
   "source": [
    "sa_medal_cts = south_american_data.groupby(['NOC', 'Games', 'Medal']).Event.nunique().reset_index()"
   ]
  },
  {
   "cell_type": "code",
   "execution_count": 52,
   "metadata": {
    "ExecuteTime": {
     "end_time": "2019-05-16T17:38:49.433933Z",
     "start_time": "2019-05-16T17:38:49.423548Z"
    },
    "hidden": true
   },
   "outputs": [
    {
     "name": "stderr",
     "output_type": "stream",
     "text": [
      "/Users/eddieowens/miniconda3/lib/python3.7/site-packages/ipykernel_launcher.py:1: FutureWarning: The signature of `Series.to_csv` was aligned to that of `DataFrame.to_csv`, and argument 'header' will change its default value from False to True: please pass an explicit value to suppress this warning.\n",
      "  \"\"\"Entry point for launching an IPython kernel.\n"
     ]
    }
   ],
   "source": [
    "sa_medal_cts.groupby(['NOC']).Event.sum().to_csv('south_america.csv')"
   ]
  },
  {
   "cell_type": "markdown",
   "metadata": {
    "heading_collapsed": true
   },
   "source": [
    "# Connection Map"
   ]
  },
  {
   "cell_type": "code",
   "execution_count": 53,
   "metadata": {
    "ExecuteTime": {
     "end_time": "2019-05-16T17:38:49.547392Z",
     "start_time": "2019-05-16T17:38:49.436745Z"
    },
    "hidden": true
   },
   "outputs": [],
   "source": [
    "host_cities = olympics.groupby('Games').City.unique()"
   ]
  },
  {
   "cell_type": "code",
   "execution_count": 54,
   "metadata": {
    "ExecuteTime": {
     "end_time": "2019-05-16T17:38:49.555916Z",
     "start_time": "2019-05-16T17:38:49.549666Z"
    },
    "hidden": true
   },
   "outputs": [],
   "source": [
    "host_cities_full = pd.DataFrame([value.split() for value in host_cities.index.values], columns=['Year', 'Games'])"
   ]
  },
  {
   "cell_type": "code",
   "execution_count": 55,
   "metadata": {
    "ExecuteTime": {
     "end_time": "2019-05-16T17:38:49.566743Z",
     "start_time": "2019-05-16T17:38:49.559795Z"
    },
    "hidden": true
   },
   "outputs": [],
   "source": [
    "host_cities_full['City'] = [array[0] for array in host_cities]"
   ]
  },
  {
   "cell_type": "code",
   "execution_count": 56,
   "metadata": {
    "ExecuteTime": {
     "end_time": "2019-05-16T17:38:49.594615Z",
     "start_time": "2019-05-16T17:38:49.570062Z"
    },
    "hidden": true
   },
   "outputs": [],
   "source": [
    "host_cities_full.sort_values(['Games', 'Year']).to_csv('connection.csv')"
   ]
  },
  {
   "cell_type": "markdown",
   "metadata": {
    "heading_collapsed": true
   },
   "source": [
    "# Stream graph"
   ]
  },
  {
   "cell_type": "code",
   "execution_count": 57,
   "metadata": {
    "ExecuteTime": {
     "end_time": "2019-05-16T17:38:49.609501Z",
     "start_time": "2019-05-16T17:38:49.599317Z"
    },
    "hidden": true
   },
   "outputs": [],
   "source": [
    "regions = pd.read_csv('olympics/noc_regions.csv', index_col=0)"
   ]
  },
  {
   "cell_type": "code",
   "execution_count": 58,
   "metadata": {
    "ExecuteTime": {
     "end_time": "2019-05-16T17:38:49.627760Z",
     "start_time": "2019-05-16T17:38:49.612860Z"
    },
    "hidden": true
   },
   "outputs": [],
   "source": [
    "region_dict = {noc:regions.continent.loc[noc] for noc in regions.index}"
   ]
  },
  {
   "cell_type": "code",
   "execution_count": 59,
   "metadata": {
    "ExecuteTime": {
     "end_time": "2019-05-16T17:38:49.679479Z",
     "start_time": "2019-05-16T17:38:49.632276Z"
    },
    "hidden": true
   },
   "outputs": [],
   "source": [
    "olympics['continent'] = olympics.NOC.map(region_dict)"
   ]
  },
  {
   "cell_type": "code",
   "execution_count": 60,
   "metadata": {
    "ExecuteTime": {
     "end_time": "2019-05-16T17:38:50.225073Z",
     "start_time": "2019-05-16T17:38:49.683355Z"
    },
    "hidden": true
   },
   "outputs": [
    {
     "name": "stderr",
     "output_type": "stream",
     "text": [
      "/Users/eddieowens/miniconda3/lib/python3.7/site-packages/ipykernel_launcher.py:1: FutureWarning: The signature of `Series.to_csv` was aligned to that of `DataFrame.to_csv`, and argument 'header' will change its default value from False to True: please pass an explicit value to suppress this warning.\n",
      "  \"\"\"Entry point for launching an IPython kernel.\n"
     ]
    }
   ],
   "source": [
    "olympics[olympics.Season=='Summer'].groupby(['Year', 'continent']).Name.nunique().to_csv('stream.csv')"
   ]
  },
  {
   "cell_type": "markdown",
   "metadata": {
    "heading_collapsed": true
   },
   "source": [
    "# Treemap"
   ]
  },
  {
   "cell_type": "code",
   "execution_count": 61,
   "metadata": {
    "ExecuteTime": {
     "end_time": "2019-05-16T17:38:50.276307Z",
     "start_time": "2019-05-16T17:38:50.228648Z"
    },
    "hidden": true
   },
   "outputs": [],
   "source": [
    "all_years = olympics[(olympics.Season=='Winter') & (olympics.Medal=='Gold')].groupby(['Year', 'continent', 'NOC']).Event.nunique()"
   ]
  },
  {
   "cell_type": "code",
   "execution_count": 62,
   "metadata": {
    "ExecuteTime": {
     "end_time": "2019-05-16T17:38:50.292576Z",
     "start_time": "2019-05-16T17:38:50.279285Z"
    },
    "hidden": true
   },
   "outputs": [],
   "source": [
    "all_years = all_years.reset_index()"
   ]
  },
  {
   "cell_type": "code",
   "execution_count": 63,
   "metadata": {
    "ExecuteTime": {
     "end_time": "2019-05-16T17:38:50.305024Z",
     "start_time": "2019-05-16T17:38:50.295845Z"
    },
    "hidden": true
   },
   "outputs": [],
   "source": [
    "all_years['NOC'] = all_years.NOC.map(smart_dict({'GDR':'GER', 'URS':'RUS'}))"
   ]
  },
  {
   "cell_type": "code",
   "execution_count": 64,
   "metadata": {
    "ExecuteTime": {
     "end_time": "2019-05-16T17:38:50.326357Z",
     "start_time": "2019-05-16T17:38:50.308617Z"
    },
    "hidden": true
   },
   "outputs": [
    {
     "name": "stderr",
     "output_type": "stream",
     "text": [
      "/Users/eddieowens/miniconda3/lib/python3.7/site-packages/ipykernel_launcher.py:1: FutureWarning: The signature of `Series.to_csv` was aligned to that of `DataFrame.to_csv`, and argument 'header' will change its default value from False to True: please pass an explicit value to suppress this warning.\n",
      "  \"\"\"Entry point for launching an IPython kernel.\n"
     ]
    }
   ],
   "source": [
    "all_years.groupby(['continent', 'NOC']).Event.sum().to_csv('treemap.csv')"
   ]
  },
  {
   "cell_type": "markdown",
   "metadata": {},
   "source": [
    "# Scatterplot"
   ]
  },
  {
   "cell_type": "code",
   "execution_count": 65,
   "metadata": {
    "ExecuteTime": {
     "end_time": "2019-05-16T17:38:50.496731Z",
     "start_time": "2019-05-16T17:38:50.330091Z"
    }
   },
   "outputs": [],
   "source": [
    "population = pd.read_excel('world_pop2.xlsx', index_col=0)"
   ]
  },
  {
   "cell_type": "code",
   "execution_count": 66,
   "metadata": {
    "ExecuteTime": {
     "end_time": "2019-05-16T17:38:50.506734Z",
     "start_time": "2019-05-16T17:38:50.499045Z"
    }
   },
   "outputs": [],
   "source": [
    "pop_2015 = population[2015]"
   ]
  },
  {
   "cell_type": "code",
   "execution_count": 67,
   "metadata": {
    "ExecuteTime": {
     "end_time": "2019-05-16T17:38:50.541135Z",
     "start_time": "2019-05-16T17:38:50.511202Z"
    }
   },
   "outputs": [],
   "source": [
    "country_golds = olympics[(olympics.Year>=2000) & (olympics.Medal=='Gold')].groupby(['NOC', 'Games']).Event.nunique()"
   ]
  },
  {
   "cell_type": "code",
   "execution_count": 68,
   "metadata": {
    "ExecuteTime": {
     "end_time": "2019-05-16T17:38:50.563674Z",
     "start_time": "2019-05-16T17:38:50.545432Z"
    }
   },
   "outputs": [],
   "source": [
    "country_golds_tot = country_golds.reset_index().groupby('NOC').sum()"
   ]
  },
  {
   "cell_type": "code",
   "execution_count": 69,
   "metadata": {
    "ExecuteTime": {
     "end_time": "2019-05-16T17:38:50.590571Z",
     "start_time": "2019-05-16T17:38:50.567829Z"
    }
   },
   "outputs": [],
   "source": [
    "country_codes = {noc:regions.region.loc[noc] for noc in regions.index}\n",
    "region_dict = {noc:regions.continent.loc[noc] for noc in regions.index}\n",
    "continent_map = {'africa':'Africa', 'asia':'Asia', 'northam':'North America',\n",
    "                'europe':'Europe', 'southam':'South America', 'oceania':'Oceania'}"
   ]
  },
  {
   "cell_type": "code",
   "execution_count": 70,
   "metadata": {
    "ExecuteTime": {
     "end_time": "2019-05-16T17:38:50.598680Z",
     "start_time": "2019-05-16T17:38:50.592517Z"
    }
   },
   "outputs": [],
   "source": [
    "country_golds_tot['country'] = country_golds_tot.index.map(country_codes)\n",
    "country_golds_tot['continent'] = country_golds_tot.index.map(region_dict)"
   ]
  },
  {
   "cell_type": "code",
   "execution_count": 71,
   "metadata": {
    "ExecuteTime": {
     "end_time": "2019-05-16T17:38:50.609721Z",
     "start_time": "2019-05-16T17:38:50.602928Z"
    }
   },
   "outputs": [],
   "source": [
    "country_golds_tot.set_index('country', inplace=True)"
   ]
  },
  {
   "cell_type": "code",
   "execution_count": 72,
   "metadata": {
    "ExecuteTime": {
     "end_time": "2019-05-16T17:38:50.626461Z",
     "start_time": "2019-05-16T17:38:50.611991Z"
    }
   },
   "outputs": [],
   "source": [
    "country_gold_popn = country_golds_tot.join(pop_2015, how='outer')"
   ]
  },
  {
   "cell_type": "code",
   "execution_count": 73,
   "metadata": {
    "ExecuteTime": {
     "end_time": "2019-05-16T17:38:50.635364Z",
     "start_time": "2019-05-16T17:38:50.628318Z"
    }
   },
   "outputs": [],
   "source": [
    "country_gold_popn = country_gold_popn[(country_gold_popn.Event>0)]"
   ]
  },
  {
   "cell_type": "code",
   "execution_count": 74,
   "metadata": {
    "ExecuteTime": {
     "end_time": "2019-05-16T17:38:50.876045Z",
     "start_time": "2019-05-16T17:38:50.637488Z"
    },
    "scrolled": false
   },
   "outputs": [
    {
     "data": {
      "image/png": "[encoded data removed]",
      "text/plain": [
       "<Figure size 720x432 with 1 Axes>"
      ]
     },
     "metadata": {
      "needs_background": "light"
     },
     "output_type": "display_data"
    }
   ],
   "source": [
    "plt.figure(figsize=(10,6))\n",
    "axes = []\n",
    "continents = []\n",
    "for continent in country_gold_popn.continent.unique():\n",
    "    if continent not in ['none', np.nan]:\n",
    "        continent_golds = country_gold_popn[country_gold_popn.continent==continent]\n",
    "        axes.append(plt.scatter(np.log10(continent_golds[2015]*1000), continent_golds.Event))\n",
    "        continents.append(continent_map[continent])\n",
    "plt.title('Population vs. Olympic Gold Medals Since 2000')\n",
    "plt.xlabel('Population (Log Scale)')\n",
    "plt.ylabel('Gold Medals Won')\n",
    "plt.legend(axes, continents, bbox_to_anchor=(1,1))\n",
    "plt.show()"
   ]
  },
  {
   "cell_type": "markdown",
   "metadata": {},
   "source": [
    "# Storyline"
   ]
  },
  {
   "cell_type": "code",
   "execution_count": 109,
   "metadata": {
    "ExecuteTime": {
     "end_time": "2019-05-16T17:59:50.480049Z",
     "start_time": "2019-05-16T17:59:50.459099Z"
    },
    "scrolled": true
   },
   "outputs": [],
   "source": [
    "gdp = pd.read_excel('gdp.xlsx', index_col=4)"
   ]
  },
  {
   "cell_type": "code",
   "execution_count": 111,
   "metadata": {
    "ExecuteTime": {
     "end_time": "2019-05-16T17:59:56.062727Z",
     "start_time": "2019-05-16T17:59:56.056180Z"
    }
   },
   "outputs": [],
   "source": [
    "country_gold_gdp = country_golds_tot.join(gdp, how='outer')"
   ]
  },
  {
   "cell_type": "code",
   "execution_count": 112,
   "metadata": {
    "ExecuteTime": {
     "end_time": "2019-05-16T17:59:56.483973Z",
     "start_time": "2019-05-16T17:59:56.478397Z"
    }
   },
   "outputs": [],
   "source": [
    "country_gold_gdp = country_gold_gdp[(country_gold_gdp.Event>0)]"
   ]
  },
  {
   "cell_type": "code",
   "execution_count": 116,
   "metadata": {
    "ExecuteTime": {
     "end_time": "2019-05-16T18:01:02.289534Z",
     "start_time": "2019-05-16T18:01:02.279415Z"
    },
    "collapsed": true
   },
   "outputs": [
    {
     "data": {
      "text/plain": [
       "country\n",
       "Taiwan                             0.000000\n",
       "Grenada                            1.016208\n",
       "Fiji                               4.671118\n",
       "Tajikistan                         6.951679\n",
       "Armenia                           10.572299\n",
       "Mozambique                        10.930132\n",
       "Mongolia                          11.160357\n",
       "Bahamas                           11.261800\n",
       "Jamaica                           14.056901\n",
       "Georgia                           14.332729\n",
       "Zimbabwe                          16.123764\n",
       "North Korea                       16.788602\n",
       "Estonia                           23.337921\n",
       "Trinidad                          24.086177\n",
       "Uganda                            25.307842\n",
       "Latvia                            27.572698\n",
       "Bahrain                           32.179074\n",
       "Cameroon                          32.217074\n",
       "Ivory Coast                       36.767790\n",
       "Azerbaijan                        37.847204\n",
       "Serbia                            38.299872\n",
       "Serbia                            38.299872\n",
       "Jordan                            38.654648\n",
       "Tunisia                           41.703561\n",
       "Lithuania                         42.773030\n",
       "Slovenia                          44.708599\n",
       "Belarus                           47.408111\n",
       "Croatia                           51.231003\n",
       "Bulgaria                          53.239643\n",
       "Panama                            55.187800\n",
       "                                   ...     \n",
       "Austria                          390.799991\n",
       "Nigeria                          404.649125\n",
       "Thailand                         407.026320\n",
       "Iran                             425.402616\n",
       "Belgium                          467.955267\n",
       "Poland                           471.402267\n",
       "Sweden                           514.475857\n",
       "Argentina                        545.866164\n",
       "Switzerland                      668.851296\n",
       "Netherlands                      777.227542\n",
       "Turkey                           863.711711\n",
       "Indonesia                        932.259178\n",
       "Mexico                          1076.914464\n",
       "Spain                           1237.255020\n",
       "Russia                          1246.015057\n",
       "Australia                       1304.463105\n",
       "South Korea                     1411.245590\n",
       "Canada                          1529.760492\n",
       "Brazil                          1795.925681\n",
       "Italy                           1858.913164\n",
       "India                           2259.642383\n",
       "France                          2465.453975\n",
       "UK                              2647.898655\n",
       "Germany                         3477.796274\n",
       "Japan                           4936.211828\n",
       "China                          11218.281029\n",
       "USA                            18624.475000\n",
       "Individual Olympic Athletes             NaN\n",
       "Kosovo                                  NaN\n",
       "NaN                                     NaN\n",
       "Name: unGDP, Length: 89, dtype: float64"
      ]
     },
     "execution_count": 116,
     "metadata": {},
     "output_type": "execute_result"
    }
   ],
   "source": [
    "country_gold_gdp.unGDP.sort_values()"
   ]
  },
  {
   "cell_type": "code",
   "execution_count": 118,
   "metadata": {
    "ExecuteTime": {
     "end_time": "2019-05-16T18:01:30.494309Z",
     "start_time": "2019-05-16T18:01:30.168942Z"
    },
    "scrolled": false
   },
   "outputs": [
    {
     "name": "stderr",
     "output_type": "stream",
     "text": [
      "/Users/eddieowens/miniconda3/lib/python3.7/site-packages/ipykernel_launcher.py:7: RuntimeWarning: divide by zero encountered in log10\n",
      "  import sys\n"
     ]
    },
    {
     "data": {
      "image/png": "[encoded data removed]",
      "text/plain": [
       "<Figure size 720x432 with 1 Axes>"
      ]
     },
     "metadata": {
      "needs_background": "light"
     },
     "output_type": "display_data"
    }
   ],
   "source": [
    "plt.figure(figsize=(10,6))\n",
    "axes = []\n",
    "continents = []\n",
    "for continent in country_gold_gdp.continent.unique():\n",
    "    if continent not in ['none', np.nan]:\n",
    "        continent_golds = country_gold_gdp[country_gold_gdp.continent==continent]\n",
    "        axes.append(plt.scatter(np.log10(continent_golds.unGDP), continent_golds.Event))\n",
    "        continents.append(continent_map[continent])\n",
    "plt.title('GDP vs. Olympic Gold Medals Since 2000')\n",
    "plt.xlabel('GDP (Log Scale)')\n",
    "plt.ylabel('Gold Medals Won')\n",
    "plt.legend(axes, continents, bbox_to_anchor=(1,1))\n",
    "plt.show()"
   ]
  },
  {
   "cell_type": "code",
   "execution_count": null,
   "metadata": {},
   "outputs": [],
   "source": []
  }
 ],
 "metadata": {
  "kernelspec": {
   "display_name": "Python 3",
   "language": "python",
   "name": "python3"
  },
  "language_info": {
   "codemirror_mode": {
    "name": "ipython",
    "version": 3
   },
   "file_extension": ".py",
   "mimetype": "text/x-python",
   "name": "python",
   "nbconvert_exporter": "python",
   "pygments_lexer": "ipython3",
   "version": "3.7.2"
  },
  "toc": {
   "base_numbering": 1,
   "nav_menu": {},
   "number_sections": true,
   "sideBar": true,
   "skip_h1_title": false,
   "title_cell": "Table of Contents",
   "title_sidebar": "Contents",
   "toc_cell": false,
   "toc_position": {
    "height": "calc(100% - 180px)",
    "left": "10px",
    "top": "150px",
    "width": "235px"
   },
   "toc_section_display": true,
   "toc_window_display": true
  }
 },
 "nbformat": 4,
 "nbformat_minor": 2
}
